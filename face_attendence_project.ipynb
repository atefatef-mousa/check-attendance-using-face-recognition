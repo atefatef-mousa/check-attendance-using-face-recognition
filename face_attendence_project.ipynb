{
 "cells": [
  {
   "cell_type": "code",
   "execution_count": 1,
   "id": "4777f346",
   "metadata": {},
   "outputs": [],
   "source": [
    "import numpy as np\n",
    "import face_recognition\n",
    "import cv2\n",
    "import pandas as pd \n",
    "import os "
   ]
  },
  {
   "cell_type": "code",
   "execution_count": 15,
   "id": "7190ca51",
   "metadata": {},
   "outputs": [],
   "source": [
    "## collect the images that used as a database \n",
    "## use face detection for seperating each face in the image \n",
    "## collect the new face and compare to get the resault "
   ]
  },
  {
   "cell_type": "code",
   "execution_count": 18,
   "id": "da585a2d",
   "metadata": {},
   "outputs": [],
   "source": [
    "face_seperation=cv2.CascadeClassifier(r'F:\\Computer vision course\\addititional resource\\OpenCv-Haarcascade-XML-files-master\\haarcascade_frontalface_default.xml')"
   ]
  },
  {
   "cell_type": "code",
   "execution_count": 3,
   "id": "55d42d01",
   "metadata": {},
   "outputs": [],
   "source": [
    "def detect_faces_location(img) :\n",
    "    faces_location=face_seperation.detectMultiScale(img,1.3,5)\n",
    "    faces=[]\n",
    "    for x,y,w,h in faces_location :\n",
    "        faces.append(img[y:y+h,x:x+w])\n",
    "    for i in range(len(faces)) :\n",
    "        faces[i]=cv2.cvtColor(faces[i],cv2.COLOR_BGR2RGB)\n",
    "    return faces\n",
    "    "
   ]
  },
  {
   "cell_type": "code",
   "execution_count": 4,
   "id": "7a7d00d8",
   "metadata": {},
   "outputs": [],
   "source": [
    "def store_face(faces) :\n",
    "    face_landmark=[]\n",
    "    if faces !=[] :\n",
    "        for face in faces :\n",
    "            face_landmark.append(face_recognition.face_encodings(face)[0])      \n",
    "    return face_landmark "
   ]
  },
  {
   "cell_type": "code",
   "execution_count": 5,
   "id": "58e0d982",
   "metadata": {
    "scrolled": true
   },
   "outputs": [],
   "source": [
    "\n",
    "file=r'E:\\older_level_compo\\face_project'\n",
    "def read_database(file) :\n",
    "    land_mark=[]\n",
    "    list_names=[]\n",
    "    for files in os.listdir(file) :\n",
    "        list_names.append(files)\n",
    "        for img in os.listdir(file+\"\\\\\"+files) :\n",
    "            img_down=cv2.imread(file+\"\\\\\"+files+\"\\\\\"+img)\n",
    "            land_mark.append(store_face(detect_faces_location(img_down)))\n",
    "    return land_mark,list_names\n",
    "            \n",
    "            \n",
    "            \n",
    "        "
   ]
  },
  {
   "cell_type": "code",
   "execution_count": 6,
   "id": "bda0e3c3",
   "metadata": {},
   "outputs": [],
   "source": [
    "land_mark,list_names=read_database(file)\n",
    "##now we load the database we need know to check the performance "
   ]
  },
  {
   "cell_type": "code",
   "execution_count": 7,
   "id": "b2eac53f",
   "metadata": {},
   "outputs": [],
   "source": [
    "def check_attendance(img) :\n",
    "    faces=[]\n",
    "    prevent_double=[]\n",
    "    check=[]\n",
    "    faces=detect_faces_location(img)\n",
    "    land_marks=store_face(faces)\n",
    "    for i in range(len(land_marks)) :\n",
    "        for j in range(len(land_mark)) :\n",
    "            if face_recognition.compare_faces(land_mark[j],land_marks[i])[0]:\n",
    "                prevent_double.append(list_names[j])\n",
    "    prevent_double=set(prevent_double)\n",
    "    for list_ in prevent_double :\n",
    "        check.append(list_)\n",
    "    return check"
   ]
  },
  {
   "cell_type": "code",
   "execution_count": 8,
   "id": "0145bc89",
   "metadata": {},
   "outputs": [],
   "source": [
    "###create sheet for attendence \n",
    "def create_attendence(list_day,list_names,dataframe) :\n",
    "    day_atten=np.zeros(len(list_names))\n",
    "    for i in range (len(list_names)) :\n",
    "        for j in range(len(list_day)) :\n",
    "            if list_names[i]==list_day[j] :\n",
    "                day_atten[i]=1\n",
    "    day_atten=pd.Series(day_atten,index=dataframe.columns)\n",
    "    dataframe=dataframe.append(day_atten,ignore_index=True)\n",
    "    return dataframe"
   ]
  },
  {
   "cell_type": "code",
   "execution_count": 9,
   "id": "4390a13a",
   "metadata": {},
   "outputs": [
    {
     "data": {
      "text/plain": [
       "['osama', 'atef', 'zyad']"
      ]
     },
     "execution_count": 9,
     "metadata": {},
     "output_type": "execute_result"
    }
   ],
   "source": [
    "##frist_day\n",
    "img_check_loc=r'E:\\older_level_compo\\OLD_PHONE\\Telegram\\IMG_20211114_171825_493.jpg'\n",
    "img_check=cv2.imread(img_check_loc)\n",
    "day_1=check_attendance(img_check)\n",
    "day_1"
   ]
  },
  {
   "cell_type": "code",
   "execution_count": 10,
   "id": "cb849580",
   "metadata": {},
   "outputs": [
    {
     "data": {
      "text/plain": [
       "['atef', 'ahmed']"
      ]
     },
     "execution_count": 10,
     "metadata": {},
     "output_type": "execute_result"
    }
   ],
   "source": [
    "##second_day\n",
    "img_check2_loc=r'E:\\older_level_compo\\OLD_PHONE\\Telegram\\IMG_20211118_053302_568.jpg'\n",
    "img_check2=cv2.imread(img_check2_loc)\n",
    "day_2=check_attendance(img_check2)\n",
    "day_2"
   ]
  },
  {
   "cell_type": "code",
   "execution_count": 11,
   "id": "49993af8",
   "metadata": {},
   "outputs": [
    {
     "data": {
      "text/plain": [
       "['abd_elaziz']"
      ]
     },
     "execution_count": 11,
     "metadata": {},
     "output_type": "execute_result"
    }
   ],
   "source": [
    "##third_day\n",
    "img_check3_loc=r'E:\\older_level_compo\\check\\zizo2.jpg'\n",
    "img_check3=cv2.imread(img_check3_loc)\n",
    "day_3=check_attendance(img_check3)\n",
    "day_3"
   ]
  },
  {
   "cell_type": "code",
   "execution_count": 12,
   "id": "69feda32",
   "metadata": {},
   "outputs": [
    {
     "name": "stderr",
     "output_type": "stream",
     "text": [
      "C:\\Users\\RAM\\AppData\\Local\\Temp\\ipykernel_12596\\2141312125.py:9: FutureWarning: The frame.append method is deprecated and will be removed from pandas in a future version. Use pandas.concat instead.\n",
      "  dataframe=dataframe.append(day_atten,ignore_index=True)\n"
     ]
    }
   ],
   "source": [
    "sheet=pd.DataFrame(columns=list_names)\n",
    "day_1_sheet=create_attendence(day_1,list_names,sheet)\n",
    "day_2_sheet=create_attendence(day_2,list_names,day_1_sheet)\n",
    "day_3_sheet=create_attendence(day_3,list_names,day_2_sheet)\n",
    "day_3_sheet.to_csv(r'E:\\older_level_compo\\attendence_file.csv')"
   ]
  },
  {
   "cell_type": "code",
   "execution_count": 15,
   "id": "2c574662",
   "metadata": {},
   "outputs": [
    {
     "name": "stderr",
     "output_type": "stream",
     "text": [
      "C:\\Users\\RAM\\AppData\\Local\\Temp\\ipykernel_12596\\2141312125.py:9: FutureWarning: The frame.append method is deprecated and will be removed from pandas in a future version. Use pandas.concat instead.\n",
      "  dataframe=dataframe.append(day_atten,ignore_index=True)\n"
     ]
    },
    {
     "data": {
      "text/html": [
       "<div>\n",
       "<style scoped>\n",
       "    .dataframe tbody tr th:only-of-type {\n",
       "        vertical-align: middle;\n",
       "    }\n",
       "\n",
       "    .dataframe tbody tr th {\n",
       "        vertical-align: top;\n",
       "    }\n",
       "\n",
       "    .dataframe thead th {\n",
       "        text-align: right;\n",
       "    }\n",
       "</style>\n",
       "<table border=\"1\" class=\"dataframe\">\n",
       "  <thead>\n",
       "    <tr style=\"text-align: right;\">\n",
       "      <th></th>\n",
       "      <th>abd_elaziz</th>\n",
       "      <th>ahmed</th>\n",
       "      <th>atef</th>\n",
       "      <th>osama</th>\n",
       "      <th>zyad</th>\n",
       "    </tr>\n",
       "  </thead>\n",
       "  <tbody>\n",
       "    <tr>\n",
       "      <th>0</th>\n",
       "      <td>0.0</td>\n",
       "      <td>1.0</td>\n",
       "      <td>0.0</td>\n",
       "      <td>0.0</td>\n",
       "      <td>0.0</td>\n",
       "    </tr>\n",
       "  </tbody>\n",
       "</table>\n",
       "</div>"
      ],
      "text/plain": [
       "   abd_elaziz  ahmed  atef  osama  zyad\n",
       "0         0.0    1.0   0.0    0.0   0.0"
      ]
     },
     "execution_count": 15,
     "metadata": {},
     "output_type": "execute_result"
    }
   ],
   "source": [
    "##now we check this in the webcamb \n",
    "cap=cv2.VideoCapture(0)\n",
    "attendence=[]\n",
    "while(True) :\n",
    "    ret,frame=cap.read()\n",
    "    if ret ==False :\n",
    "        break \n",
    "    cv2.imshow('frame',frame)\n",
    "    frame=cv2.blur(frame,(5,5))\n",
    "    if cv2.waitKey(1)==ord('t') :\n",
    "        attendence=check_attendance(frame)\n",
    "    write_img=np.zeros((512,512,3))\n",
    "    font = cv2.FONT_HERSHEY_SIMPLEX\n",
    "    cv2.putText(write_img,f'{attendence}',(100,100),cv2.FONT_HERSHEY_SIMPLEX,1,(0,0,255),2,cv2.LINE_AA)\n",
    "    cv2.imshow('attendence',write_img)\n",
    "    if cv2.waitKey(1)==ord('q') :\n",
    "        break\n",
    "cap.release()\n",
    "cv2.destroyAllWindows()\n",
    "sheet_camera=create_attendence(attendence,list_names,sheet)\n",
    "sheet_camera\n"
   ]
  },
  {
   "cell_type": "code",
   "execution_count": null,
   "id": "0d54aa58",
   "metadata": {},
   "outputs": [],
   "source": []
  }
 ],
 "metadata": {
  "kernelspec": {
   "display_name": "Python 3 (ipykernel)",
   "language": "python",
   "name": "python3"
  },
  "language_info": {
   "codemirror_mode": {
    "name": "ipython",
    "version": 3
   },
   "file_extension": ".py",
   "mimetype": "text/x-python",
   "name": "python",
   "nbconvert_exporter": "python",
   "pygments_lexer": "ipython3",
   "version": "3.10.7"
  }
 },
 "nbformat": 4,
 "nbformat_minor": 5
}
